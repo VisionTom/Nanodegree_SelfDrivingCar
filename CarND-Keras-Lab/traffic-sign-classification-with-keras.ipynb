{
 "cells": [
  {
   "cell_type": "markdown",
   "metadata": {},
   "source": [
    "# Traffic Sign Classification with Keras\n",
    "\n",
    "Keras exists to make coding deep neural networks simpler. To demonstrate just how easy it is, you’re going to use Keras to build a convolutional neural network in a few dozen lines of code.\n",
    "\n",
    "You’ll be connecting the concepts from the previous lessons to the methods that Keras provides."
   ]
  },
  {
   "cell_type": "markdown",
   "metadata": {},
   "source": [
    "## Dataset\n",
    "\n",
    "The network you'll build with Keras is similar to the example in Keras’s GitHub repository that builds out a [convolutional neural network for MNIST](https://github.com/fchollet/keras/blob/master/examples/mnist_cnn.py). \n",
    "\n",
    "However, instead of using the [MNIST](http://yann.lecun.com/exdb/mnist/) dataset, you're going to use the [German Traffic Sign Recognition Benchmark](http://benchmark.ini.rub.de/?section=gtsrb&subsection=news) dataset that you've used previously.\n",
    "\n",
    "You can download pickle files with sanitized traffic sign data here:"
   ]
  },
  {
   "cell_type": "code",
   "execution_count": 1,
   "metadata": {
    "ExecuteTime": {
     "end_time": "2017-01-22T11:31:52.015833",
     "start_time": "2017-01-22T11:31:51.943735"
    },
    "collapsed": false
   },
   "outputs": [
    {
     "name": "stdout",
     "output_type": "stream",
     "text": [
      "Training and Test data downloaded.\n"
     ]
    }
   ],
   "source": [
    "from urllib.request import urlretrieve\n",
    "from os.path import isfile\n",
    "from tqdm import tqdm\n",
    "\n",
    "class DLProgress(tqdm):\n",
    "    last_block = 0\n",
    "\n",
    "    def hook(self, block_num=1, block_size=1, total_size=None):\n",
    "        self.total = total_size\n",
    "        self.update((block_num - self.last_block) * block_size)\n",
    "        self.last_block = block_num\n",
    "\n",
    "if not isfile('train.p'):\n",
    "    with DLProgress(unit='B', unit_scale=True, miniters=1, desc='Train Dataset') as pbar:\n",
    "        urlretrieve(\n",
    "            'https://s3.amazonaws.com/udacity-sdc/datasets/german_traffic_sign_benchmark/train.p',\n",
    "            'train.p',\n",
    "            pbar.hook)\n",
    "\n",
    "if not isfile('test.p'):\n",
    "    with DLProgress(unit='B', unit_scale=True, miniters=1, desc='Test Dataset') as pbar:\n",
    "        urlretrieve(\n",
    "            'https://s3.amazonaws.com/udacity-sdc/datasets/german_traffic_sign_benchmark/test.p',\n",
    "            'test.p',\n",
    "            pbar.hook)\n",
    "\n",
    "print('Training and Test data downloaded.')"
   ]
  },
  {
   "cell_type": "markdown",
   "metadata": {},
   "source": [
    "## Overview\n",
    "\n",
    "Here are the steps you'll take to build the network:\n",
    "\n",
    "1. Load the training data.\n",
    "2. Preprocess the data.\n",
    "3. Build a feedforward neural network to classify traffic signs.\n",
    "4. Build a convolutional neural network to classify traffic signs.\n",
    "5. Evaluate the final neural network on testing data.\n",
    "\n",
    "Keep an eye on the network’s accuracy over time. Once the accuracy reaches the 98% range, you can be confident that you’ve built and trained an effective model."
   ]
  },
  {
   "cell_type": "code",
   "execution_count": 2,
   "metadata": {
    "ExecuteTime": {
     "end_time": "2017-01-22T11:31:53.190093",
     "start_time": "2017-01-22T11:31:52.018247"
    },
    "collapsed": false
   },
   "outputs": [
    {
     "name": "stdout",
     "output_type": "stream",
     "text": [
      "Modules loaded.\n"
     ]
    }
   ],
   "source": [
    "import pickle\n",
    "import numpy as np\n",
    "import math\n",
    "\n",
    "# Fix error with TF and Keras\n",
    "import tensorflow as tf\n",
    "tf.python.control_flow_ops = tf\n",
    "\n",
    "print('Modules loaded.')"
   ]
  },
  {
   "cell_type": "markdown",
   "metadata": {},
   "source": [
    "## Load the Data\n",
    "\n",
    "Start by importing the data from the pickle file."
   ]
  },
  {
   "cell_type": "code",
   "execution_count": 3,
   "metadata": {
    "ExecuteTime": {
     "end_time": "2017-01-22T11:31:53.488355",
     "start_time": "2017-01-22T11:31:53.192133"
    },
    "collapsed": false
   },
   "outputs": [
    {
     "name": "stdout",
     "output_type": "stream",
     "text": [
      "Data Keys: dict_keys(['labels', 'coords', 'features', 'sizes'])\n",
      "X_train.shape: (39209, 32, 32, 3)\n",
      "y_train.shape: (39209,)\n"
     ]
    }
   ],
   "source": [
    "with open('train.p', 'rb') as f:\n",
    "    data = pickle.load(f)\n",
    "\n",
    "print(\"Data Keys: {}\".format(data.keys()))\n",
    "# TODO: Load the feature data to the variable X_train\n",
    "X_train = data['features']\n",
    "print(\"X_train.shape: {}\".format(X_train.shape))\n",
    "# TODO: Load the label data to the variable y_train\n",
    "y_train = data['labels']\n",
    "print(\"y_train.shape: {}\".format(y_train.shape))"
   ]
  },
  {
   "cell_type": "code",
   "execution_count": 4,
   "metadata": {
    "ExecuteTime": {
     "end_time": "2017-01-22T11:31:53.556063",
     "start_time": "2017-01-22T11:31:53.491292"
    },
    "collapsed": false
   },
   "outputs": [
    {
     "name": "stdout",
     "output_type": "stream",
     "text": [
      "Tests passed.\n"
     ]
    }
   ],
   "source": [
    "# STOP: Do not change the tests below. Your implementation should pass these tests. \n",
    "assert np.array_equal(X_train, data['features']), 'X_train not set to data[\\'features\\'].'\n",
    "assert np.array_equal(y_train, data['labels']), 'y_train not set to data[\\'labels\\'].'\n",
    "print('Tests passed.')"
   ]
  },
  {
   "cell_type": "markdown",
   "metadata": {},
   "source": [
    "## Preprocess the Data\n",
    "\n",
    "1. Shuffle the data\n",
    "2. Normalize the features using Min-Max scaling between -0.5 and 0.5\n",
    "3. One-Hot Encode the labels\n",
    "\n",
    "### Shuffle the data\n",
    "Hint: You can use the [scikit-learn shuffle](http://scikit-learn.org/stable/modules/generated/sklearn.utils.shuffle.html) function to shuffle the data."
   ]
  },
  {
   "cell_type": "code",
   "execution_count": 5,
   "metadata": {
    "ExecuteTime": {
     "end_time": "2017-01-22T11:31:53.889978",
     "start_time": "2017-01-22T11:31:53.562001"
    },
    "collapsed": false
   },
   "outputs": [],
   "source": [
    "from sklearn.utils import shuffle\n",
    "\n",
    "# TODO: Shuffle the data\n",
    "X_train, y_train = shuffle(X_train, y_train)"
   ]
  },
  {
   "cell_type": "code",
   "execution_count": 6,
   "metadata": {
    "ExecuteTime": {
     "end_time": "2017-01-22T11:31:53.955487",
     "start_time": "2017-01-22T11:31:53.892385"
    },
    "collapsed": false
   },
   "outputs": [
    {
     "name": "stdout",
     "output_type": "stream",
     "text": [
      "Tests passed.\n"
     ]
    }
   ],
   "source": [
    "# STOP: Do not change the tests below. Your implementation should pass these tests. \n",
    "assert X_train.shape == data['features'].shape, 'X_train has changed shape. The shape shouldn\\'t change when shuffling.'\n",
    "assert y_train.shape == data['labels'].shape, 'y_train has changed shape. The shape shouldn\\'t change when shuffling.'\n",
    "assert not np.array_equal(X_train, data['features']), 'X_train not shuffled.'\n",
    "assert not np.array_equal(y_train, data['labels']), 'y_train not shuffled.'\n",
    "print('Tests passed.')"
   ]
  },
  {
   "cell_type": "markdown",
   "metadata": {},
   "source": [
    "### Normalize the features\n",
    "Hint: You solved this in [TensorFlow lab](https://github.com/udacity/CarND-TensorFlow-Lab/blob/master/lab.ipynb) Problem 1."
   ]
  },
  {
   "cell_type": "code",
   "execution_count": 7,
   "metadata": {
    "ExecuteTime": {
     "end_time": "2017-01-22T11:31:54.988426",
     "start_time": "2017-01-22T11:31:53.958116"
    },
    "collapsed": false
   },
   "outputs": [],
   "source": [
    "# TODO: Normalize the data features to the variable X_normalized\n",
    "def normalize_grayscale(image_data):\n",
    "    a = -0.5\n",
    "    b = 0.5\n",
    "    grayscale_min = 0\n",
    "    grayscale_max = 255\n",
    "    return a + ( ( (image_data - grayscale_min)*(b - a) )/( grayscale_max - grayscale_min ) )\n",
    "\n",
    "X_normalized = normalize_grayscale(X_train)"
   ]
  },
  {
   "cell_type": "code",
   "execution_count": 8,
   "metadata": {
    "ExecuteTime": {
     "end_time": "2017-01-22T11:31:55.155243",
     "start_time": "2017-01-22T11:31:54.990856"
    },
    "collapsed": false
   },
   "outputs": [
    {
     "name": "stdout",
     "output_type": "stream",
     "text": [
      "Tests passed.\n"
     ]
    }
   ],
   "source": [
    "# STOP: Do not change the tests below. Your implementation should pass these tests. \n",
    "assert math.isclose(np.min(X_normalized), -0.5, abs_tol=1e-5) and math.isclose(np.max(X_normalized), 0.5, abs_tol=1e-5), 'The range of the training data is: {} to {}.  It must be -0.5 to 0.5'.format(np.min(X_normalized), np.max(X_normalized))\n",
    "print('Tests passed.')"
   ]
  },
  {
   "cell_type": "markdown",
   "metadata": {},
   "source": [
    "### One-Hot Encode the labels\n",
    "Hint: You can use the [scikit-learn LabelBinarizer](http://scikit-learn.org/stable/modules/generated/sklearn.preprocessing.LabelBinarizer.html) function to one-hot encode the labels."
   ]
  },
  {
   "cell_type": "code",
   "execution_count": 9,
   "metadata": {
    "ExecuteTime": {
     "end_time": "2017-01-22T11:31:55.187412",
     "start_time": "2017-01-22T11:31:55.158112"
    },
    "collapsed": false
   },
   "outputs": [],
   "source": [
    "# TODO: One Hot encode the labels to the variable y_one_hot\n",
    "from sklearn import preprocessing\n",
    "lb = preprocessing.LabelBinarizer()\n",
    "lb.fit(y_train)\n",
    "y_one_hot = lb.transform(y_train)"
   ]
  },
  {
   "cell_type": "code",
   "execution_count": 10,
   "metadata": {
    "ExecuteTime": {
     "end_time": "2017-01-22T11:31:55.834812",
     "start_time": "2017-01-22T11:31:55.191614"
    },
    "collapsed": false
   },
   "outputs": [
    {
     "name": "stdout",
     "output_type": "stream",
     "text": [
      "Tests passed.\n"
     ]
    }
   ],
   "source": [
    "# STOP: Do not change the tests below. Your implementation should pass these tests. \n",
    "import collections\n",
    "\n",
    "assert y_one_hot.shape == (39209, 43), 'y_one_hot is not the correct shape.  It\\'s {}, it should be (39209, 43)'.format(y_one_hot.shape)\n",
    "assert next((False for y in y_one_hot if collections.Counter(y) != {0: 42, 1: 1}), True), 'y_one_hot not one-hot encoded.'\n",
    "print('Tests passed.')"
   ]
  },
  {
   "cell_type": "markdown",
   "metadata": {},
   "source": [
    "## Keras Sequential Model\n",
    "```python\n",
    "from keras.models import Sequential\n",
    "\n",
    "# Create the Sequential model\n",
    "model = Sequential()\n",
    "```\n",
    "The `keras.models.Sequential` class is a wrapper for the neural network model. Just like many of the class models in scikit-learn, it provides common functions like `fit()`, `evaluate()`, and `compile()`.  We'll cover these functions as we get to them.  Let's start looking at the layers of the model.\n",
    "\n",
    "## Keras Layer\n",
    "A Keras layer is just like a neural network layer.  It can be fully connected, max pool, activation, etc.  You can add a layer to the model using the model's `add()` function.  For example, a simple model would look like this:\n",
    "```python\n",
    "from keras.models import Sequential\n",
    "from keras.layers.core import Dense, Activation, Flatten\n",
    "\n",
    "# Create the Sequential model\n",
    "model = Sequential()\n",
    "\n",
    "# 1st Layer - Add a flatten layer\n",
    "model.add(Flatten(input_shape=(32, 32, 3)))\n",
    "\n",
    "# 2nd Layer - Add a fully connected layer\n",
    "model.add(Dense(100))\n",
    "\n",
    "# 3rd Layer - Add a ReLU activation layer\n",
    "model.add(Activation('relu'))\n",
    "\n",
    "# 4th Layer - Add a fully connected layer\n",
    "model.add(Dense(60))\n",
    "\n",
    "# 5th Layer - Add a ReLU activation layer\n",
    "model.add(Activation('relu'))\n",
    "```\n",
    "Keras will automatically infer the shape of all layers after the first layer.  This means you only have to set the input dimensions for the first layer.\n",
    "\n",
    "The first layer from above, `model.add(Flatten(input_shape=(32, 32, 3)))`, sets the input dimension to (32, 32, 3) and output dimension to (3072=32\\*32\\*3).  The second layer takes in the output of the first layer and sets the output dimenions to (100).  This chain of passing output to the next layer continues until the last layer, which is the output of the model."
   ]
  },
  {
   "cell_type": "markdown",
   "metadata": {},
   "source": [
    "## Build a Multi-Layer Feedforward Network\n",
    "\n",
    "Build a multi-layer feedforward neural network to classify the traffic sign images.\n",
    "\n",
    "1. Set the first layer to a `Flatten` layer with the `input_shape` set to (32, 32, 3)\n",
    "2. Set the second layer to `Dense` layer width to 128 output. \n",
    "3. Use a ReLU activation function after the second layer.\n",
    "4. Set the output layer width to 43, since there are 43 classes in the dataset.\n",
    "5. Use a softmax activation function after the output layer.\n",
    "\n",
    "To get started, review the Keras documentation about [models](https://keras.io/models/sequential/) and [layers](https://keras.io/layers/core/).\n",
    "\n",
    "The Keras example of a [Multi-Layer Perceptron](https://github.com/fchollet/keras/blob/master/examples/mnist_mlp.py) network is similar to what you need to do here. Use that as a guide, but keep in mind that there are a number of differences."
   ]
  },
  {
   "cell_type": "code",
   "execution_count": 11,
   "metadata": {
    "ExecuteTime": {
     "end_time": "2017-01-22T11:31:55.987383",
     "start_time": "2017-01-22T11:31:55.837019"
    },
    "collapsed": false
   },
   "outputs": [
    {
     "name": "stderr",
     "output_type": "stream",
     "text": [
      "Using TensorFlow backend.\n"
     ]
    }
   ],
   "source": [
    "from keras.models import Sequential\n",
    "from keras.layers.core import Dense, Activation, Flatten\n",
    "\n",
    "model = Sequential()\n",
    "# TODO: Build a Multi-layer feedforward neural network with Keras here.\n",
    "\n",
    "# 1st Layer - Add a flatten layer\n",
    "model.add(Flatten(input_shape=(32, 32, 3)))\n",
    "\n",
    "# 2nd Layer - Add a fully connected layer\n",
    "model.add(Dense(128))\n",
    "\n",
    "# 3rd Layer - Add a ReLU activation layer\n",
    "model.add(Activation('relu'))\n",
    "\n",
    "# 4th Layer - Add a fully connected layer\n",
    "model.add(Dense(43))\n",
    "\n",
    "# 5th Layer - Add a ReLU activation layer\n",
    "model.add(Activation('softmax'))"
   ]
  },
  {
   "cell_type": "code",
   "execution_count": 12,
   "metadata": {
    "ExecuteTime": {
     "end_time": "2017-01-22T11:31:56.012091",
     "start_time": "2017-01-22T11:31:55.990289"
    },
    "collapsed": false
   },
   "outputs": [
    {
     "name": "stdout",
     "output_type": "stream",
     "text": [
      "Tests passed.\n"
     ]
    }
   ],
   "source": [
    "# STOP: Do not change the tests below. Your implementation should pass these tests.\n",
    "from keras.layers.core import Dense, Activation, Flatten\n",
    "from keras.activations import relu, softmax\n",
    "\n",
    "def check_layers(layers, true_layers):\n",
    "    assert len(true_layers) != 0, 'No layers found'\n",
    "    for layer_i in range(len(layers)):\n",
    "        assert isinstance(true_layers[layer_i], layers[layer_i]), 'Layer {} is not a {} layer'.format(layer_i+1, layers[layer_i].__name__)\n",
    "    assert len(true_layers) == len(layers), '{} layers found, should be {} layers'.format(len(true_layers), len(layers))\n",
    "\n",
    "check_layers([Flatten, Dense, Activation, Dense, Activation], model.layers)\n",
    "\n",
    "assert model.layers[0].input_shape == (None, 32, 32, 3), 'First layer input shape is wrong, it should be (32, 32, 3)'\n",
    "assert model.layers[1].output_shape == (None, 128), 'Second layer output is wrong, it should be (128)'\n",
    "assert model.layers[2].activation == relu, 'Third layer not a relu activation layer'\n",
    "assert model.layers[3].output_shape == (None, 43), 'Fourth layer output is wrong, it should be (43)'\n",
    "assert model.layers[4].activation == softmax, 'Fifth layer not a softmax activation layer'\n",
    "print('Tests passed.')"
   ]
  },
  {
   "cell_type": "markdown",
   "metadata": {},
   "source": [
    "## Training a Sequential Model\n",
    "You built a multi-layer neural network in Keras, now let's look at training a neural network.\n",
    "```python\n",
    "from keras.models import Sequential\n",
    "from keras.layers.core import Dense, Activation\n",
    "\n",
    "model = Sequential()\n",
    "...\n",
    "\n",
    "# Configures the learning process and metrics\n",
    "model.compile('sgd', 'mean_squared_error', ['accuracy'])\n",
    "\n",
    "# Train the model\n",
    "# History is a record of training loss and metrics\n",
    "history = model.fit(x_train_data, Y_train_data, batch_size=128, nb_epoch=2, validation_split=0.2)\n",
    "\n",
    "# Calculate test score\n",
    "test_score = model.evaluate(x_test_data, Y_test_data)\n",
    "```\n",
    "The code above configures, trains, and tests the model.  The line `model.compile('sgd', 'mean_squared_error', ['accuracy'])` configures the model's optimizer to `'sgd'`(stochastic gradient descent), the loss to `'mean_squared_error'`, and the metric to `'accuracy'`.  \n",
    "\n",
    "You can find more optimizers [here](https://keras.io/optimizers/), loss functions [here](https://keras.io/objectives/#available-objectives), and more metrics [here](https://keras.io/metrics/#available-metrics).\n",
    "\n",
    "To train the model, use the `fit()` function as shown in `model.fit(x_train_data, Y_train_data, batch_size=128, nb_epoch=2, validation_split=0.2)`.  The `validation_split` parameter will split a percentage of the training dataset to be used to validate the model.  The model can be further tested with the test dataset using the `evaluation()` function as shown in the last line."
   ]
  },
  {
   "cell_type": "markdown",
   "metadata": {},
   "source": [
    "## Train the Network\n",
    "\n",
    "1. Compile the network using adam optimizer and categorical_crossentropy loss function.\n",
    "2. Train the network for ten epochs and validate with 20% of the training data."
   ]
  },
  {
   "cell_type": "code",
   "execution_count": 13,
   "metadata": {
    "ExecuteTime": {
     "end_time": "2017-01-22T11:33:12.110624",
     "start_time": "2017-01-22T11:31:56.014503"
    },
    "collapsed": false
   },
   "outputs": [
    {
     "name": "stdout",
     "output_type": "stream",
     "text": [
      "Train on 31367 samples, validate on 7842 samples\n",
      "Epoch 1/10\n",
      "31367/31367 [==============================] - 8s - loss: 1.8103 - acc: 0.5327 - val_loss: 1.0798 - val_acc: 0.7149\n",
      "Epoch 2/10\n",
      "31367/31367 [==============================] - 8s - loss: 0.8755 - acc: 0.7699 - val_loss: 0.8263 - val_acc: 0.7761\n",
      "Epoch 3/10\n",
      "31367/31367 [==============================] - 8s - loss: 0.6215 - acc: 0.8384 - val_loss: 0.5552 - val_acc: 0.8546\n",
      "Epoch 4/10\n",
      "31367/31367 [==============================] - 8s - loss: 0.4843 - acc: 0.8761 - val_loss: 0.4553 - val_acc: 0.8716\n",
      "Epoch 5/10\n",
      "31367/31367 [==============================] - 6s - loss: 0.4108 - acc: 0.8945 - val_loss: 0.6885 - val_acc: 0.7870\n",
      "Epoch 6/10\n",
      "31367/31367 [==============================] - 5s - loss: 0.3531 - acc: 0.9088 - val_loss: 0.5116 - val_acc: 0.8449\n",
      "Epoch 7/10\n",
      "31367/31367 [==============================] - 5s - loss: 0.3443 - acc: 0.9111 - val_loss: 0.3674 - val_acc: 0.8963\n",
      "Epoch 8/10\n",
      "31367/31367 [==============================] - 5s - loss: 0.2890 - acc: 0.9264 - val_loss: 0.3584 - val_acc: 0.8860\n",
      "Epoch 9/10\n",
      "31367/31367 [==============================] - 8s - loss: 0.2748 - acc: 0.9276 - val_loss: 0.3784 - val_acc: 0.8889\n",
      "Epoch 10/10\n",
      "31367/31367 [==============================] - 8s - loss: 0.2545 - acc: 0.9308 - val_loss: 0.3302 - val_acc: 0.8982\n"
     ]
    }
   ],
   "source": [
    "# TODO: Compile and train the model here.\n",
    "# Configures the learning process and metrics\n",
    "model.compile('adam', 'categorical_crossentropy', ['accuracy'])\n",
    "\n",
    "# Train the model\n",
    "# History is a record of training loss and metrics\n",
    "history = model.fit(X_normalized, y_one_hot, batch_size=128, nb_epoch=10, validation_split=0.2)"
   ]
  },
  {
   "cell_type": "code",
   "execution_count": 14,
   "metadata": {
    "ExecuteTime": {
     "end_time": "2017-01-22T11:33:12.128780",
     "start_time": "2017-01-22T11:33:12.113607"
    },
    "collapsed": false
   },
   "outputs": [
    {
     "name": "stdout",
     "output_type": "stream",
     "text": [
      "Tests passed.\n"
     ]
    }
   ],
   "source": [
    "# STOP: Do not change the tests below. Your implementation should pass these tests.\n",
    "from keras.optimizers import Adam\n",
    "\n",
    "assert model.loss == 'categorical_crossentropy', 'Not using categorical_crossentropy loss function'\n",
    "assert isinstance(model.optimizer, Adam), 'Not using adam optimizer'\n",
    "assert len(history.history['acc']) == 10, 'You\\'re using {} epochs when you need to use 10 epochs.'.format(len(history.history['acc']))\n",
    "\n",
    "assert history.history['acc'][-1] > 0.92, 'The training accuracy was: %.3f. It shoud be greater than 0.92' % history.history['acc'][-1]\n",
    "assert history.history['val_acc'][-1] > 0.85, 'The validation accuracy is: %.3f. It shoud be greater than 0.85' % history.history['val_acc'][-1]\n",
    "print('Tests passed.')"
   ]
  },
  {
   "cell_type": "markdown",
   "metadata": {},
   "source": [
    "## Convolutions\n",
    "1. Re-construct the previous network\n",
    "2. Add a [convolutional layer](https://keras.io/layers/convolutional/#convolution2d) with 32 filters, a 3x3 kernel, and valid padding before the flatten layer.\n",
    "3. Add a ReLU activation after the convolutional layer.\n",
    "\n",
    "Hint 1: The Keras example of a [convolutional neural network](https://github.com/fchollet/keras/blob/master/examples/mnist_cnn.py) for MNIST would be a good example to review."
   ]
  },
  {
   "cell_type": "code",
   "execution_count": 15,
   "metadata": {
    "ExecuteTime": {
     "end_time": "2017-01-22T11:33:12.433669",
     "start_time": "2017-01-22T11:33:12.132297"
    },
    "collapsed": false
   },
   "outputs": [],
   "source": [
    "# TODO: Re-construct the network and add a convolutional layer before the flatten layer.\n",
    "from keras.layers import Convolution2D, MaxPooling2D\n",
    "\n",
    "model = Sequential()\n",
    "# TODO: Build a Multi-layer feedforward neural network with Keras here.\n",
    "\n",
    "# input image dimensions\n",
    "nb_rows, nb_cols = 32, 32\n",
    "# number of convolutional filters to use\n",
    "nb_filters = 32\n",
    "# convolution kernel size\n",
    "kernel_size = (3, 3)\n",
    "\n",
    "# 1st Layer - Convolutional layer\n",
    "model.add(Convolution2D(nb_filters, kernel_size[0], kernel_size[1],\n",
    "                        border_mode='valid', input_shape=(32, 32, 3)))\n",
    "\n",
    "# 2nd Layer - Add a ReLU activation layer\n",
    "model.add(Activation('relu'))\n",
    "\n",
    "# 3rd Layer - Add a flatten layer\n",
    "model.add(Flatten(input_shape=(32, 32, 3)))\n",
    "\n",
    "# 4th Layer - Add a fully connected layer\n",
    "model.add(Dense(128))\n",
    "\n",
    "# 5th Layer - Add a ReLU activation layer\n",
    "model.add(Activation('relu'))\n",
    "\n",
    "# 6th Layer - Add a fully connected layer\n",
    "model.add(Dense(43))\n",
    "\n",
    "# 7th Layer - Add a ReLU activation layer\n",
    "model.add(Activation('softmax'))"
   ]
  },
  {
   "cell_type": "code",
   "execution_count": 16,
   "metadata": {
    "ExecuteTime": {
     "end_time": "2017-01-22T11:35:11.820118",
     "start_time": "2017-01-22T11:33:12.436237"
    },
    "collapsed": false
   },
   "outputs": [
    {
     "name": "stdout",
     "output_type": "stream",
     "text": [
      "Train on 31367 samples, validate on 7842 samples\n",
      "Epoch 1/2\n",
      "31367/31367 [==============================] - 61s - loss: 1.1747 - acc: 0.6978 - val_loss: 0.4357 - val_acc: 0.8842\n",
      "Epoch 2/2\n",
      "31367/31367 [==============================] - 56s - loss: 0.2917 - acc: 0.9285 - val_loss: 0.2281 - val_acc: 0.9457\n",
      "Tests passed.\n"
     ]
    }
   ],
   "source": [
    "# STOP: Do not change the tests below. Your implementation should pass these tests.\n",
    "from keras.layers.core import Dense, Activation, Flatten\n",
    "from keras.layers.convolutional import Convolution2D\n",
    "\n",
    "check_layers([Convolution2D, Activation, Flatten, Dense, Activation, Dense, Activation], model.layers)\n",
    "\n",
    "assert model.layers[0].input_shape == (None, 32, 32, 3), 'First layer input shape is wrong, it should be (32, 32, 3)'\n",
    "assert model.layers[0].nb_filter == 32, 'Wrong number of filters, it should be 32'\n",
    "assert model.layers[0].nb_col == model.layers[0].nb_row == 3, 'Kernel size is wrong, it should be a 3x3'\n",
    "assert model.layers[0].border_mode == 'valid', 'Wrong padding, it should be valid'\n",
    "\n",
    "model.compile('adam', 'categorical_crossentropy', ['accuracy'])\n",
    "history = model.fit(X_normalized, y_one_hot, batch_size=128, nb_epoch=2, validation_split=0.2)\n",
    "assert(history.history['val_acc'][-1] > 0.91), \"The validation accuracy is: %.3f.  It should be greater than 0.91\" % history.history['val_acc'][-1]\n",
    "print('Tests passed.')"
   ]
  },
  {
   "cell_type": "markdown",
   "metadata": {},
   "source": [
    "## Pooling\n",
    "1. Re-construct the network\n",
    "2. Add a 2x2 [max pooling layer](https://keras.io/layers/pooling/#maxpooling2d) immediately following your convolutional layer."
   ]
  },
  {
   "cell_type": "code",
   "execution_count": 17,
   "metadata": {
    "ExecuteTime": {
     "end_time": "2017-01-22T11:35:12.066336",
     "start_time": "2017-01-22T11:35:11.822679"
    },
    "collapsed": false
   },
   "outputs": [],
   "source": [
    "# TODO: Re-construct the network and add a pooling layer after the convolutional layer.\n",
    "\n",
    "# TODO: Re-construct the network and add a convolutional layer before the flatten layer.\n",
    "from keras.layers import Convolution2D, MaxPooling2D\n",
    "\n",
    "model = Sequential()\n",
    "# TODO: Build a Multi-layer feedforward neural network with Keras here.\n",
    "\n",
    "# input image dimensions\n",
    "nb_rows, nb_cols = 32, 32\n",
    "# number of convolutional filters to use\n",
    "nb_filters = 32\n",
    "# convolution kernel size\n",
    "kernel_size = (3, 3)\n",
    "\n",
    "# 1st Layer - Convolutional layer\n",
    "model.add(Convolution2D(nb_filters, kernel_size[0], kernel_size[1],\n",
    "                        border_mode='valid', input_shape=(32, 32, 3)))\n",
    "\n",
    "# 2nd Layer - Add Maxpooling\n",
    "model.add(MaxPooling2D(pool_size=(2,2)))\n",
    "\n",
    "# 2nd Layer - Add a ReLU activation layer\n",
    "model.add(Activation('relu'))\n",
    "\n",
    "# 3rd Layer - Add a flatten layer\n",
    "model.add(Flatten(input_shape=(32, 32, 3)))\n",
    "\n",
    "# 4th Layer - Add a fully connected layer\n",
    "model.add(Dense(128))\n",
    "\n",
    "# 5th Layer - Add a ReLU activation layer\n",
    "model.add(Activation('relu'))\n",
    "\n",
    "# 6th Layer - Add a fully connected layer\n",
    "model.add(Dense(43))\n",
    "\n",
    "# 7th Layer - Add a ReLU activation layer\n",
    "model.add(Activation('softmax'))"
   ]
  },
  {
   "cell_type": "code",
   "execution_count": 18,
   "metadata": {
    "ExecuteTime": {
     "end_time": "2017-01-22T11:36:22.290552",
     "start_time": "2017-01-22T11:35:12.068735"
    },
    "collapsed": false
   },
   "outputs": [
    {
     "name": "stdout",
     "output_type": "stream",
     "text": [
      "Train on 31367 samples, validate on 7842 samples\n",
      "Epoch 1/2\n",
      "31367/31367 [==============================] - 34s - loss: 1.5003 - acc: 0.6068 - val_loss: 0.6664 - val_acc: 0.7994\n",
      "Epoch 2/2\n",
      "31367/31367 [==============================] - 34s - loss: 0.4122 - acc: 0.9009 - val_loss: 0.2967 - val_acc: 0.9301\n",
      "Tests passed.\n"
     ]
    }
   ],
   "source": [
    "# STOP: Do not change the tests below. Your implementation should pass these tests.\n",
    "from keras.layers.core import Dense, Activation, Flatten\n",
    "from keras.layers.convolutional import Convolution2D\n",
    "from keras.layers.pooling import MaxPooling2D\n",
    "\n",
    "check_layers([Convolution2D, MaxPooling2D, Activation, Flatten, Dense, Activation, Dense, Activation], model.layers)\n",
    "assert model.layers[1].pool_size == (2, 2), 'Second layer must be a max pool layer with pool size of 2x2'\n",
    "\n",
    "model.compile('adam', 'categorical_crossentropy', ['accuracy'])\n",
    "history = model.fit(X_normalized, y_one_hot, batch_size=128, nb_epoch=2, validation_split=0.2)\n",
    "assert(history.history['val_acc'][-1] > 0.91), \"The validation accuracy is: %.3f.  It should be greater than 0.91\" % history.history['val_acc'][-1]\n",
    "print('Tests passed.')"
   ]
  },
  {
   "cell_type": "markdown",
   "metadata": {},
   "source": [
    "## Dropout\n",
    "1. Re-construct the network\n",
    "2. Add a [dropout](https://keras.io/layers/core/#dropout) layer after the pooling layer. Set the dropout rate to 50%."
   ]
  },
  {
   "cell_type": "code",
   "execution_count": 19,
   "metadata": {
    "ExecuteTime": {
     "end_time": "2017-01-22T11:36:22.764423",
     "start_time": "2017-01-22T11:36:22.292973"
    },
    "collapsed": false
   },
   "outputs": [],
   "source": [
    "# TODO: Re-construct the network and add dropout after the pooling layer.\n",
    "from keras.layers import Dropout\n",
    "\n",
    "model = Sequential()\n",
    "# TODO: Build a Multi-layer feedforward neural network with Keras here.\n",
    "\n",
    "# input image dimensions\n",
    "nb_rows, nb_cols = 32, 32\n",
    "# number of convolutional filters to use\n",
    "nb_filters = 32\n",
    "# convolution kernel size\n",
    "kernel_size = (3, 3)\n",
    "\n",
    "# 1st Layer - Convolutional layer\n",
    "model.add(Convolution2D(nb_filters, kernel_size[0], kernel_size[1],\n",
    "                        border_mode='valid', input_shape=(32, 32, 3)))\n",
    "\n",
    "# 2nd Layer - Add Maxpooling\n",
    "model.add(MaxPooling2D(pool_size=(2,2)))\n",
    "\n",
    "model.add(Dropout(0.5))\n",
    "\n",
    "# 2nd Layer - Add a ReLU activation layer\n",
    "model.add(Activation('relu'))\n",
    "\n",
    "# 3rd Layer - Add a flatten layer\n",
    "model.add(Flatten(input_shape=(32, 32, 3)))\n",
    "\n",
    "# 4th Layer - Add a fully connected layer\n",
    "model.add(Dense(128))\n",
    "\n",
    "# 5th Layer - Add a ReLU activation layer\n",
    "model.add(Activation('relu'))\n",
    "\n",
    "# 6th Layer - Add a fully connected layer\n",
    "model.add(Dense(43))\n",
    "\n",
    "# 7th Layer - Add a ReLU activation layer\n",
    "model.add(Activation('softmax'))"
   ]
  },
  {
   "cell_type": "code",
   "execution_count": 20,
   "metadata": {
    "ExecuteTime": {
     "end_time": "2017-01-22T11:37:38.300605",
     "start_time": "2017-01-22T11:36:22.766796"
    },
    "collapsed": false
   },
   "outputs": [
    {
     "name": "stdout",
     "output_type": "stream",
     "text": [
      "Train on 31367 samples, validate on 7842 samples\n",
      "Epoch 1/2\n",
      "31367/31367 [==============================] - 36s - loss: 1.5738 - acc: 0.5816 - val_loss: 0.6468 - val_acc: 0.8437\n",
      "Epoch 2/2\n",
      "31367/31367 [==============================] - 36s - loss: 0.4857 - acc: 0.8754 - val_loss: 0.3326 - val_acc: 0.9259\n",
      "Tests passed.\n"
     ]
    }
   ],
   "source": [
    "# STOP: Do not change the tests below. Your implementation should pass these tests.\n",
    "from keras.layers.core import Dense, Activation, Flatten, Dropout\n",
    "from keras.layers.convolutional import Convolution2D\n",
    "from keras.layers.pooling import MaxPooling2D\n",
    "\n",
    "check_layers([Convolution2D, MaxPooling2D, Dropout, Activation, Flatten, Dense, Activation, Dense, Activation], model.layers)\n",
    "assert model.layers[2].p == 0.5, 'Third layer should be a Dropout of 50%'\n",
    "\n",
    "model.compile('adam', 'categorical_crossentropy', ['accuracy'])\n",
    "history = model.fit(X_normalized, y_one_hot, batch_size=128, nb_epoch=2, validation_split=0.2)\n",
    "assert(history.history['val_acc'][-1] > 0.91), \"The validation accuracy is: %.3f.  It should be greater than 0.91\" % history.history['val_acc'][-1]\n",
    "print('Tests passed.')"
   ]
  },
  {
   "cell_type": "markdown",
   "metadata": {},
   "source": [
    "## Optimization\n",
    "Congratulations! You've built a neural network with convolutions, pooling, dropout, and fully-connected layers, all in just a few lines of code.\n",
    "\n",
    "Have fun with the model and see how well you can do! Add more layers, or regularization, or different padding, or batches, or more training epochs.\n",
    "\n",
    "What is the best validation accuracy you can achieve?"
   ]
  },
  {
   "cell_type": "code",
   "execution_count": 21,
   "metadata": {
    "ExecuteTime": {
     "end_time": "2017-01-22T11:44:53.680876",
     "start_time": "2017-01-22T11:37:38.302931"
    },
    "collapsed": false
   },
   "outputs": [
    {
     "name": "stdout",
     "output_type": "stream",
     "text": [
      "Train on 31367 samples, validate on 7842 samples\n",
      "Epoch 1/10\n",
      "31367/31367 [==============================] - 44s - loss: 0.2977 - acc: 0.9220 - val_loss: 0.2354 - val_acc: 0.9334\n",
      "Epoch 2/10\n",
      "31367/31367 [==============================] - 44s - loss: 0.2248 - acc: 0.9421 - val_loss: 0.1889 - val_acc: 0.9577\n",
      "Epoch 3/10\n",
      "31367/31367 [==============================] - 42s - loss: 0.1821 - acc: 0.9531 - val_loss: 0.1395 - val_acc: 0.9702\n",
      "Epoch 4/10\n",
      "31367/31367 [==============================] - 42s - loss: 0.1504 - acc: 0.9619 - val_loss: 0.1324 - val_acc: 0.9703\n",
      "Epoch 5/10\n",
      "31367/31367 [==============================] - 49s - loss: 0.1319 - acc: 0.9642 - val_loss: 0.1084 - val_acc: 0.9774\n",
      "Epoch 6/10\n",
      "31367/31367 [==============================] - 42s - loss: 0.1183 - acc: 0.9680 - val_loss: 0.0993 - val_acc: 0.9753\n",
      "Epoch 7/10\n",
      "31367/31367 [==============================] - 42s - loss: 0.1073 - acc: 0.9707 - val_loss: 0.0967 - val_acc: 0.9762\n",
      "Epoch 8/10\n",
      "31367/31367 [==============================] - 42s - loss: 0.1000 - acc: 0.9730 - val_loss: 0.0987 - val_acc: 0.9776\n",
      "Epoch 9/10\n",
      "31367/31367 [==============================] - 41s - loss: 0.0882 - acc: 0.9761 - val_loss: 0.0828 - val_acc: 0.9797\n",
      "Epoch 10/10\n",
      "31367/31367 [==============================] - 44s - loss: 0.0820 - acc: 0.9767 - val_loss: 0.0778 - val_acc: 0.9809\n"
     ]
    }
   ],
   "source": [
    "# TODO: Build a model\n",
    "\n",
    "# TODO: Compile and train the model\n",
    "history = model.fit(X_normalized, y_one_hot, batch_size=128, nb_epoch=10, validation_split=0.2)"
   ]
  },
  {
   "cell_type": "markdown",
   "metadata": {},
   "source": [
    "**Best Validation Accuracy:** (fill in here)"
   ]
  },
  {
   "cell_type": "markdown",
   "metadata": {},
   "source": [
    "## Testing\n",
    "Once you've picked out your best model, it's time to test it.\n",
    "\n",
    "Load up the test data and use the [`evaluate()` method](https://keras.io/models/model/#evaluate) to see how well it does.\n",
    "\n",
    "Hint 1: The `evaluate()` method should return an array of numbers. Use the [`metrics_names`](https://keras.io/models/model/) property to get the labels."
   ]
  },
  {
   "cell_type": "code",
   "execution_count": 23,
   "metadata": {
    "ExecuteTime": {
     "end_time": "2017-01-22T11:52:31.434632",
     "start_time": "2017-01-22T11:52:31.003484"
    },
    "collapsed": false
   },
   "outputs": [
    {
     "name": "stdout",
     "output_type": "stream",
     "text": [
      "Data Keys: dict_keys(['labels', 'coords', 'features', 'sizes'])\n",
      "X_train.shape: (12630, 32, 32, 3)\n",
      "y_train.shape: (12630,)\n"
     ]
    }
   ],
   "source": [
    "# TODO: Load test data\n",
    "with open('test.p', 'rb') as f:\n",
    "    data = pickle.load(f)\n",
    "\n",
    "print(\"Data Keys: {}\".format(data.keys()))\n",
    "# TODO: Load the feature data to the variable X_train\n",
    "X_test = data['features']\n",
    "print(\"X_train.shape: {}\".format(X_test.shape))\n",
    "# TODO: Load the label data to the variable y_train\n",
    "y_test = data['labels']\n",
    "print(\"y_train.shape: {}\".format(y_test.shape))\n",
    "\n",
    "# TODO: Preprocess data & one-hot encode the labels\n",
    "X_test_normalized = normalize_grayscale(X_test)\n",
    "\n",
    "# TODO: One Hot encode the labels to the variable y_one_hot\n",
    "\n",
    "lb = preprocessing.LabelBinarizer()\n",
    "lb.fit(y_test)\n",
    "y_test_one_hot = lb.transform(y_test)\n"
   ]
  },
  {
   "cell_type": "code",
   "execution_count": 24,
   "metadata": {
    "ExecuteTime": {
     "end_time": "2017-01-22T11:53:46.249579",
     "start_time": "2017-01-22T11:53:38.154238"
    },
    "collapsed": false
   },
   "outputs": [
    {
     "name": "stdout",
     "output_type": "stream",
     "text": [
      "12630/12630 [==============================] - 8s     \n"
     ]
    },
    {
     "data": {
      "text/plain": [
       "[0.45528133903952317, 0.90807600946343336]"
      ]
     },
     "execution_count": 24,
     "metadata": {},
     "output_type": "execute_result"
    }
   ],
   "source": [
    "# TODO: Evaluate model on test data\n",
    "model.evaluate(X_test_normalized, y_test_one_hot, batch_size=32, verbose=1, sample_weight=None)"
   ]
  },
  {
   "cell_type": "code",
   "execution_count": 28,
   "metadata": {
    "ExecuteTime": {
     "end_time": "2017-01-22T11:57:19.248424",
     "start_time": "2017-01-22T11:57:19.238861"
    },
    "collapsed": false
   },
   "outputs": [
    {
     "data": {
      "text/plain": [
       "['loss', 'acc']"
      ]
     },
     "execution_count": 28,
     "metadata": {},
     "output_type": "execute_result"
    }
   ],
   "source": [
    "model.metrics_names"
   ]
  },
  {
   "cell_type": "markdown",
   "metadata": {},
   "source": [
    "**Test Accuracy:** (fill in here)"
   ]
  },
  {
   "cell_type": "markdown",
   "metadata": {},
   "source": [
    "## Summary\n",
    "Keras is a great tool to use if you want to quickly build a neural network and evaluate performance."
   ]
  }
 ],
 "metadata": {
  "anaconda-cloud": {},
  "kernelspec": {
   "display_name": "Python [conda env:CarND-TensorFlow-Lab]",
   "language": "python",
   "name": "conda-env-CarND-TensorFlow-Lab-py"
  },
  "language_info": {
   "codemirror_mode": {
    "name": "ipython",
    "version": 3
   },
   "file_extension": ".py",
   "mimetype": "text/x-python",
   "name": "python",
   "nbconvert_exporter": "python",
   "pygments_lexer": "ipython3",
   "version": "3.5.2"
  }
 },
 "nbformat": 4,
 "nbformat_minor": 0
}
